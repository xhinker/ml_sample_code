{
 "cells": [
  {
   "cell_type": "markdown",
   "metadata": {},
   "source": [
    "# Neural Network Model Sample codes"
   ]
  },
  {
   "cell_type": "markdown",
   "metadata": {},
   "source": [
    "## What is Tensor\n",
    "\n",
    "Tensor is a generalization of scalars and vectors. They describe geometric relation between scalar-scalar,scalar-vector,vector-vector and even other tensors. They are generally represented as multi dimensional arrays.Hence we generally deal them with rank of that array/matrix.\n",
    "• Scalar: Tensor of rank 0. (magnitude only – 1 component)\n",
    "• Vector: Tensor of rank 1. (magnitude and one direction – 3 components)\n",
    "• Dyad: Tensor of rank 2. (magnitude and two directions – 32 = 9 components)\n",
    "• Triad: Tensor of rank 3. (magnitude and three directions – 33 = 27 components)\n",
    "\n",
    "(https://www.quora.com/Whats-the-difference-between-vector-and-tensor)\n",
    "\n",
    "(https://www.youtube.com/watch?v=TvxmkZmBa-k&ab_channel=eigenchris)\n",
    "Ok, think tensor as multi-dimensional array with a bunch of functions,like forward and backward. "
   ]
  },
  {
   "cell_type": "markdown",
   "metadata": {},
   "source": [
    "## Gradient Descent\n",
    "\n",
    "### GSD\n",
    "\n",
    "### Adam\n"
   ]
  },
  {
   "cell_type": "markdown",
   "metadata": {},
   "source": [
    "## Latex test\n",
    "\n",
    "$$\n",
    "A = \\frac{123}{345}\n",
    "$$"
   ]
  }
 ],
 "metadata": {
  "interpreter": {
   "hash": "81f447125f6b95dd3ecd0e94ab76d4e393671f6ab43c7f1e594b59b973bc8207"
  },
  "kernelspec": {
   "display_name": "Python 3.9.10 ('azcode_venv_p39': venv)",
   "language": "python",
   "name": "python3"
  },
  "language_info": {
   "name": "python",
   "version": "3.9.10"
  },
  "orig_nbformat": 4
 },
 "nbformat": 4,
 "nbformat_minor": 2
}
